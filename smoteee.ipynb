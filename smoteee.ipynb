{
 "cells": [
  {
   "cell_type": "code",
   "execution_count": 1,
   "id": "2879a6f9",
   "metadata": {},
   "outputs": [],
   "source": [
    "import pandas as pd\n",
    "final_data = pd.read_csv('Final_data.csv')"
   ]
  },
  {
   "cell_type": "code",
   "execution_count": 2,
   "id": "5992d871",
   "metadata": {},
   "outputs": [],
   "source": [
    "X = final_data.drop('loan_status', axis = 1)\n",
    "y = final_data['loan_status']"
   ]
  },
  {
   "cell_type": "code",
   "execution_count": 3,
   "id": "31bb442e",
   "metadata": {},
   "outputs": [],
   "source": [
    "from sklearn.model_selection import train_test_split\n",
    "X_train, X_test, y_train, y_test = train_test_split(X, y, test_size=0.2, random_state=0)"
   ]
  },
  {
   "cell_type": "code",
   "execution_count": 4,
   "id": "da4a334c",
   "metadata": {},
   "outputs": [],
   "source": [
    "import inspect\n",
    "import time\n",
    "from imblearn.over_sampling import SMOTE"
   ]
  },
  {
   "cell_type": "code",
   "execution_count": 5,
   "id": "8c9acc64",
   "metadata": {},
   "outputs": [
    {
     "name": "stdout",
     "output_type": "stream",
     "text": [
      "Waktu fitting: 1.8092141151428223 detik\n"
     ]
    }
   ],
   "source": [
    "from imblearn.over_sampling import SMOTENC\n",
    "\n",
    "resampler = SMOTE(\n",
    "    sampling_strategy='auto',\n",
    "    random_state=42,\n",
    "    k_neighbors=5\n",
    ")\n",
    "start_time1 = time.time()\n",
    "X_resampled, y_resampled = resampler.fit_resample(X_train, y_train)\n",
    "end_time1 = time.time()\n",
    "execution_time1 = end_time1 - start_time1\n",
    "print(\"Waktu fitting:\", execution_time1, \"detik\")"
   ]
  },
  {
   "cell_type": "code",
   "execution_count": 6,
   "id": "ac7206af",
   "metadata": {},
   "outputs": [
    {
     "name": "stdout",
     "output_type": "stream",
     "text": [
      "[21:10:22] WARNING: C:/buildkite-agent/builds/buildkite-windows-cpu-autoscaling-group-i-0fc7796c793e6356f-1/xgboost/xgboost-ci-windows/src/learner.cc:767: \n",
      "Parameters: { \"verbose\" } are not used.\n",
      "\n",
      "[0]\tvalidation_0-mlogloss:0.97855\n",
      "[1]\tvalidation_0-mlogloss:0.87381\n",
      "[2]\tvalidation_0-mlogloss:0.78508\n",
      "[3]\tvalidation_0-mlogloss:0.71209\n",
      "[4]\tvalidation_0-mlogloss:0.64581\n",
      "[5]\tvalidation_0-mlogloss:0.58825\n",
      "[6]\tvalidation_0-mlogloss:0.53776\n",
      "[7]\tvalidation_0-mlogloss:0.49335\n",
      "[8]\tvalidation_0-mlogloss:0.45414\n",
      "[9]\tvalidation_0-mlogloss:0.41909\n",
      "[10]\tvalidation_0-mlogloss:0.38798\n",
      "[11]\tvalidation_0-mlogloss:0.36109\n",
      "[12]\tvalidation_0-mlogloss:0.33510\n",
      "[13]\tvalidation_0-mlogloss:0.31281\n",
      "[14]\tvalidation_0-mlogloss:0.29334\n",
      "[15]\tvalidation_0-mlogloss:0.27423\n",
      "[16]\tvalidation_0-mlogloss:0.25709\n",
      "[17]\tvalidation_0-mlogloss:0.24205\n",
      "[18]\tvalidation_0-mlogloss:0.22793\n",
      "[19]\tvalidation_0-mlogloss:0.21490\n",
      "[20]\tvalidation_0-mlogloss:0.20398\n",
      "[21]\tvalidation_0-mlogloss:0.19381\n",
      "[22]\tvalidation_0-mlogloss:0.18291\n",
      "[23]\tvalidation_0-mlogloss:0.17280\n",
      "[24]\tvalidation_0-mlogloss:0.16437\n",
      "[25]\tvalidation_0-mlogloss:0.15523\n",
      "[26]\tvalidation_0-mlogloss:0.14748\n",
      "[27]\tvalidation_0-mlogloss:0.14059\n",
      "[28]\tvalidation_0-mlogloss:0.13252\n",
      "[29]\tvalidation_0-mlogloss:0.12702\n",
      "[30]\tvalidation_0-mlogloss:0.12129\n",
      "[31]\tvalidation_0-mlogloss:0.11571\n",
      "[32]\tvalidation_0-mlogloss:0.11035\n",
      "[33]\tvalidation_0-mlogloss:0.10626\n",
      "[34]\tvalidation_0-mlogloss:0.10250\n",
      "[35]\tvalidation_0-mlogloss:0.09888\n",
      "[36]\tvalidation_0-mlogloss:0.09474\n",
      "[37]\tvalidation_0-mlogloss:0.09090\n",
      "[38]\tvalidation_0-mlogloss:0.08720\n",
      "[39]\tvalidation_0-mlogloss:0.08375\n",
      "[40]\tvalidation_0-mlogloss:0.08035\n",
      "[41]\tvalidation_0-mlogloss:0.07707\n",
      "[42]\tvalidation_0-mlogloss:0.07405\n",
      "[43]\tvalidation_0-mlogloss:0.07141\n",
      "[44]\tvalidation_0-mlogloss:0.06886\n",
      "[45]\tvalidation_0-mlogloss:0.06639\n",
      "[46]\tvalidation_0-mlogloss:0.06390\n",
      "[47]\tvalidation_0-mlogloss:0.06164\n",
      "[48]\tvalidation_0-mlogloss:0.05954\n",
      "[49]\tvalidation_0-mlogloss:0.05757\n",
      "[50]\tvalidation_0-mlogloss:0.05606\n",
      "[51]\tvalidation_0-mlogloss:0.05441\n",
      "[52]\tvalidation_0-mlogloss:0.05226\n",
      "[53]\tvalidation_0-mlogloss:0.05116\n",
      "[54]\tvalidation_0-mlogloss:0.04979\n",
      "[55]\tvalidation_0-mlogloss:0.04851\n",
      "[56]\tvalidation_0-mlogloss:0.04724\n",
      "[57]\tvalidation_0-mlogloss:0.04556\n",
      "[58]\tvalidation_0-mlogloss:0.04454\n",
      "[59]\tvalidation_0-mlogloss:0.04311\n",
      "[60]\tvalidation_0-mlogloss:0.04187\n",
      "[61]\tvalidation_0-mlogloss:0.04061\n",
      "[62]\tvalidation_0-mlogloss:0.03961\n",
      "[63]\tvalidation_0-mlogloss:0.03831\n",
      "[64]\tvalidation_0-mlogloss:0.03707\n",
      "[65]\tvalidation_0-mlogloss:0.03623\n",
      "[66]\tvalidation_0-mlogloss:0.03537\n",
      "[67]\tvalidation_0-mlogloss:0.03429\n",
      "[68]\tvalidation_0-mlogloss:0.03343\n",
      "[69]\tvalidation_0-mlogloss:0.03275\n",
      "[70]\tvalidation_0-mlogloss:0.03202\n",
      "[71]\tvalidation_0-mlogloss:0.03086\n",
      "[72]\tvalidation_0-mlogloss:0.03017\n",
      "[73]\tvalidation_0-mlogloss:0.02913\n",
      "[74]\tvalidation_0-mlogloss:0.02840\n",
      "[75]\tvalidation_0-mlogloss:0.02767\n",
      "[76]\tvalidation_0-mlogloss:0.02709\n",
      "[77]\tvalidation_0-mlogloss:0.02654\n",
      "[78]\tvalidation_0-mlogloss:0.02588\n",
      "[79]\tvalidation_0-mlogloss:0.02519\n",
      "[80]\tvalidation_0-mlogloss:0.02462\n",
      "[81]\tvalidation_0-mlogloss:0.02424\n",
      "[82]\tvalidation_0-mlogloss:0.02385\n",
      "[83]\tvalidation_0-mlogloss:0.02330\n",
      "[84]\tvalidation_0-mlogloss:0.02294\n",
      "[85]\tvalidation_0-mlogloss:0.02245\n",
      "[86]\tvalidation_0-mlogloss:0.02207\n",
      "[87]\tvalidation_0-mlogloss:0.02163\n",
      "[88]\tvalidation_0-mlogloss:0.02109\n",
      "[89]\tvalidation_0-mlogloss:0.02095\n",
      "[90]\tvalidation_0-mlogloss:0.02050\n",
      "[91]\tvalidation_0-mlogloss:0.02013\n",
      "[92]\tvalidation_0-mlogloss:0.01974\n",
      "[93]\tvalidation_0-mlogloss:0.01961\n",
      "[94]\tvalidation_0-mlogloss:0.01918\n",
      "[95]\tvalidation_0-mlogloss:0.01876\n",
      "[96]\tvalidation_0-mlogloss:0.01844\n",
      "[97]\tvalidation_0-mlogloss:0.01822\n",
      "[98]\tvalidation_0-mlogloss:0.01785\n",
      "[99]\tvalidation_0-mlogloss:0.01752\n",
      "Waktu fitting: 87.11803817749023 detik\n"
     ]
    },
    {
     "name": "stderr",
     "output_type": "stream",
     "text": [
      "  0%|          | 0/100 [00:00<?, ?it/s]"
     ]
    },
    {
     "name": "stdout",
     "output_type": "stream",
     "text": [
      "              precision    recall  f1-score   support\n",
      "\n",
      "         bad       1.00      0.99      1.00    104802\n",
      "        poor       1.00      1.00      1.00    104802\n",
      "        good       1.00      1.00      1.00    104802\n",
      "\n",
      "    accuracy                           1.00    314406\n",
      "   macro avg       1.00      1.00      1.00    314406\n",
      "weighted avg       1.00      1.00      1.00    314406\n",
      "\n",
      "              precision    recall  f1-score   support\n",
      "\n",
      "         bad       1.00      0.98      0.99      6597\n",
      "        poor       0.98      1.00      0.99      2187\n",
      "        good       1.00      1.00      1.00     26234\n",
      "\n",
      "    accuracy                           1.00     35018\n",
      "   macro avg       0.99      0.99      0.99     35018\n",
      "weighted avg       1.00      1.00      1.00     35018\n",
      "\n"
     ]
    }
   ],
   "source": [
    "from xgboost import XGBClassifier\n",
    "from tqdm import tqdm\n",
    "from sklearn.metrics import classification_report\n",
    "\n",
    "xgb = XGBClassifier(\n",
    "    objective='multi:softmax',\n",
    "    num_class=3,\n",
    "    learning_rate=0.1,\n",
    "    max_depth=3,\n",
    "    n_estimators=100,\n",
    "    verbose=True\n",
    ")\n",
    "\n",
    "# Specify eval_set for evaluation during training\n",
    "eval_set = [(X_test, y_test)]\n",
    "start_time2 = time.time()\n",
    "# Fit the model with eval_set\n",
    "xgb.fit(X_resampled, y_resampled, eval_set=eval_set)\n",
    "\n",
    "end_time2 = time.time()\n",
    "execution_time2 = end_time2 - start_time2\n",
    "print(\"Waktu fitting:\", execution_time2, \"detik\")\n",
    "# Fitting (training) the model with a progress bar\n",
    "progress_bar = tqdm(total=xgb.n_estimators)\n",
    "\n",
    "def update_progress_bar(*args, **kwargs):\n",
    "    progress_bar.update(1)\n",
    "\n",
    "\n",
    "\n",
    "# Make predictions\n",
    "y_pred = xgb.predict(X_test)\n",
    "y_pred_resampled = xgb.predict(X_resampled)\n",
    "\n",
    "# Evaluate the model\n",
    "target_names = ['bad', 'poor', 'good']\n",
    "print(classification_report(y_resampled, y_pred_resampled, target_names=target_names))\n",
    "print(classification_report(y_test, y_pred, target_names=target_names))"
   ]
  },
  {
   "cell_type": "code",
   "execution_count": 7,
   "id": "3461890d",
   "metadata": {},
   "outputs": [
    {
     "name": "stdout",
     "output_type": "stream",
     "text": [
      "                    Feature      Gain\n",
      "18                out_prncp  0.294926\n",
      "23  collection_recovery_fee  0.228853\n",
      "25          last_pymnt_amnt  0.194820\n",
      "7                     grade  0.095339\n",
      "10             mths_issue_d  0.060487\n",
      "20          total_rec_prncp  0.032712\n",
      "4               funded_amnt  0.025341\n",
      "24        mths_last_pymnt_d  0.020590\n",
      "26  mths_last_credit_pull_d  0.017250\n",
      "21            total_rec_int  0.012609\n"
     ]
    }
   ],
   "source": [
    "feature_importance = xgb.feature_importances_\n",
    "# smote xgboost\n",
    "# Buat DataFrame untuk menyimpan nama fitur dan nilai gain\n",
    "feature_importance_df = pd.DataFrame({'Feature': X_train.columns, 'Gain': feature_importance})\n",
    "\n",
    "# Urutkan DataFrame berdasarkan nilai Gain secara descending\n",
    "feature_importance_df = feature_importance_df.sort_values(by='Gain', ascending=False)\n",
    "\n",
    "# Jumlah fitur teratas yang ingin ditampilkan\n",
    "top_n = 10  # Ganti sesuai dengan jumlah yang Anda inginkan\n",
    "\n",
    "# Tampilkan nama fitur dan nilai gain teratas\n",
    "top_features = feature_importance_df.head(top_n)\n",
    "print(top_features)"
   ]
  },
  {
   "cell_type": "code",
   "execution_count": null,
   "id": "71f61e08-8802-40b5-9892-ee80c6f6e866",
   "metadata": {},
   "outputs": [],
   "source": []
  }
 ],
 "metadata": {
  "kernelspec": {
   "display_name": "Python 3 (ipykernel)",
   "language": "python",
   "name": "python3"
  },
  "language_info": {
   "codemirror_mode": {
    "name": "ipython",
    "version": 3
   },
   "file_extension": ".py",
   "mimetype": "text/x-python",
   "name": "python",
   "nbconvert_exporter": "python",
   "pygments_lexer": "ipython3",
   "version": "3.9.12"
  }
 },
 "nbformat": 4,
 "nbformat_minor": 5
}
